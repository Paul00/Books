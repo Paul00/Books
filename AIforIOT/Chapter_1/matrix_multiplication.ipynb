#import tensorflow as tf
import tensorflow.compat.v1 as tf
tf.disable_v2_behavior()

import numpy as np

mat1 = np.random.rand(3,5)
mat2 = np.random.rand(5,2)

A = tf.placeholder(tf.float32, None, name='A')
B = tf.placeholder(tf.float32, None, name='B')

C = tf.matmul(A,B)

with tf.Session() as sess:
  result = sess.run(C, feed_dict={A: mat1, B: mat2})
  print(result)
