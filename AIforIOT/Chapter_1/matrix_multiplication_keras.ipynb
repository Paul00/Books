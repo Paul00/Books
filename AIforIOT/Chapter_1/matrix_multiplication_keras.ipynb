import keras.backend as K
import numpy as np
A = np.random.rand(20,500)
B = np.random.rand(500,3000)

x = K.variable(value=A)
y = K.variable(value=B)

z = K.dot(x,y)

print(K.eval(z))
