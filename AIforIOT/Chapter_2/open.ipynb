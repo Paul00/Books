from openpyxl import Workbook
#from openpyxl.compat import range
from openpyxl.utils import get_column_letter
wb = Workbook()

dest_filename = 'empyt_book.xlsx'
ws1 = wb.active
ws1.title = "range names"
for row in range(1,40):
  ws1.append(range(0,100,5))
ws2 = wb.create_sheet(title="Pi")
ws2['F5'] = 2 * 3.14
ws2.cell(column=1, row=5, value=3.14)
ws3 = wb.create_sheet(title="Data")
for row in range(1,20):
  for col in range(1, 15):
    _ = ws3.cell(column=col, row=row, value="{0}".format(get_column_letter(col)))
print(ws3['A10'].value)
wb.save(filename = dest_filename)

from openpyxl import load_workbook
wb = load_workbook(filename = 'empty_book.xlsx')
sheet_ranges = wb['range names']
print(wb.get_sheet_names())
print(sheet_ranges['D18'].value)
